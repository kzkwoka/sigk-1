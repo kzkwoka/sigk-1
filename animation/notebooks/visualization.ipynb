{
 "cells": [
  {
   "cell_type": "code",
   "execution_count": null,
   "id": "6b7bdcac",
   "metadata": {},
   "outputs": [],
   "source": [
    "from utils import images_to_video, visualize_model_outputs\n",
    "from src.dataset import AnimationTripletDataset\n",
    "from src.model import AnimationUNet    "
   ]
  },
  {
   "cell_type": "code",
   "execution_count": null,
   "id": "d94afd61",
   "metadata": {},
   "outputs": [],
   "source": [
    "dataset = AnimationTripletDataset(\"frames_merged/valid\")"
   ]
  },
  {
   "cell_type": "code",
   "execution_count": null,
   "id": "ae2ae802",
   "metadata": {},
   "outputs": [],
   "source": [
    "model = AnimationUNet.load_from_checkpoint(\n",
    "    \"checkpoints/epoch=09-val_loss=0.0000.ckpt\",\n",
    "    in_channels=3,\n",
    "    out_channels=3,\n",
    ")"
   ]
  },
  {
   "cell_type": "code",
   "execution_count": null,
   "id": "b8c8d2e1",
   "metadata": {},
   "outputs": [],
   "source": [
    "visualize_model_outputs(\n",
    "    model,\n",
    "    dataset,\n",
    "    num_examples=10,\n",
    ")"
   ]
  },
  {
   "cell_type": "code",
   "execution_count": null,
   "id": "e0a6a719",
   "metadata": {},
   "outputs": [],
   "source": []
  }
 ],
 "metadata": {
  "kernelspec": {
   "display_name": "Python 3 (ipykernel)",
   "language": "python",
   "name": "python3"
  },
  "language_info": {
   "codemirror_mode": {
    "name": "ipython",
    "version": 3
   },
   "file_extension": ".py",
   "mimetype": "text/x-python",
   "name": "python",
   "nbconvert_exporter": "python",
   "pygments_lexer": "ipython3",
   "version": "3.10.12"
  }
 },
 "nbformat": 4,
 "nbformat_minor": 5
}
